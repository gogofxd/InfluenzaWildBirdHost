{
 "cells": [
  {
   "cell_type": "code",
   "execution_count": null,
   "id": "76023cde",
   "metadata": {},
   "outputs": [],
   "source": [
    "import pandas as pd\n",
    "\n",
    "# Read the Excel file and select 'Tabelle1' sheet\n",
    "df = pd.read_excel('gisaid_epiflu_isolates.xls', sheet_name='Tabelle1')\n",
    "\n",
    "# Extract the second part from 'Isolate_Name' as 'Strain_Host'\n",
    "df['Strain_Host'] = df['Isolate_Name'].str.split('/').str[1]\n",
    "\n",
    "# Normalize host name: lowercase, replace '-' and '_' with space,remove leading/trailing spaces\n",
    "df['Strain_Host_Check_Use'] = (\n",
    "    df['Strain_Host']\n",
    "    .str.lower()\n",
    "    .replace({'-': ' ', '_': ' '}, regex=True)\n",
    "    .str.strip()\n",
    ")\n",
    "\n",
    "# Load the classification dictionary (first 6 columns only)\n",
    "host_dict = pd.read_csv('Wild_Bird_Host_Classification_Dictionary.csv', usecols=range(6))\n",
    "\n",
    "# Merge on standardized host name\n",
    "merged = df.merge(host_dict, how='left',\n",
    "                  left_on='Strain_Host_Check_Use',\n",
    "                  right_on='Strain_Host_Check_Dictionary')\n",
    "\n",
    "# Export the merged DataFrame to a CSV file\n",
    "merged.to_csv('merged_gisaid_host_info.csv', index=False)\n",
    "\n",
    "print(\"Merge completed. Output saved to 'merged_gisaid_host_info.csv'.\")\n"
   ]
  }
 ],
 "metadata": {
  "kernelspec": {
   "display_name": "Python 3 (ipykernel)",
   "language": "python",
   "name": "python3"
  },
  "language_info": {
   "codemirror_mode": {
    "name": "ipython",
    "version": 3
   },
   "file_extension": ".py",
   "mimetype": "text/x-python",
   "name": "python",
   "nbconvert_exporter": "python",
   "pygments_lexer": "ipython3",
   "version": "3.9.7"
  }
 },
 "nbformat": 4,
 "nbformat_minor": 5
}
